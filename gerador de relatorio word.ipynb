{
 "cells": [
  {
   "cell_type": "markdown",
   "id": "bef44e58",
   "metadata": {},
   "source": [
    "# Gerador de relatorio Word e PDF\n",
    "\n",
    "* Função que cria um relatório num documento word.\n",
    "* recebe variáveis através dum dicionário\n",
    "* a conversão para PDF precisa de ter o woord instalado. Explorar como alternativa o código comentado"
   ]
  },
  {
   "cell_type": "code",
   "execution_count": null,
   "id": "630e299c",
   "metadata": {
    "id": "630e299c"
   },
   "outputs": [],
   "source": [
    "pip install python-docx"
   ]
  },
  {
   "cell_type": "code",
   "execution_count": null,
   "id": "163a8119",
   "metadata": {
    "id": "163a8119"
   },
   "outputs": [],
   "source": [
    "pip install pdfkit"
   ]
  },
  {
   "cell_type": "code",
   "execution_count": null,
   "id": "bbb4407a",
   "metadata": {
    "id": "bbb4407a"
   },
   "outputs": [],
   "source": [
    "pip install pywin32"
   ]
  },
  {
   "cell_type": "code",
   "execution_count": 16,
   "id": "21a1091c",
   "metadata": {
    "id": "21a1091c"
   },
   "outputs": [],
   "source": [
    "from docx import Document\n",
    "import win32com.client as win32\n",
    "from docx.shared import Inches\n",
    "from docx.enum.text import WD_PARAGRAPH_ALIGNMENT\n",
    "import os\n",
    "\n",
    "\n",
    "def gera_relatorio(ano, parte, avaliado, data, avaliador, areas):\n",
    "    \n",
    "    document = Document()\n",
    "\n",
    "    # Cabeçalho\n",
    "    paragraph = document.add_paragraph(f'Projeto MentHA')\n",
    "\n",
    "    # para pôr em itálico (chato... talvez exista algo melhor)\n",
    "    for run in paragraph.runs:\n",
    "        run.font.italic = True\n",
    "    paragraph.alignment = WD_PARAGRAPH_ALIGNMENT.CENTER \n",
    "\n",
    "\n",
    "    paragraph = document.add_heading(f'Relatório de {parte}', 0)\n",
    "    paragraph.alignment = WD_PARAGRAPH_ALIGNMENT.CENTER\n",
    "\n",
    "    document.add_paragraph(f'Nome da pessoa avaliada: {avaliado}')\n",
    "    document.add_paragraph(f'Data: {data}')\n",
    "\n",
    "\n",
    "    # Relatório\n",
    "\n",
    "    paragraph = document.add_paragraph(f'Apresenta-se de seguida os resultados da avaliação MentHA, {parte}, de {avaliado}, realizado no dia {data}.')\n",
    "    paragraph.alignment = WD_PARAGRAPH_ALIGNMENT.JUSTIFY\n",
    "\n",
    "    for area in areas:\n",
    "        paragraph = document.add_heading(f\"Dimensão: {area['dimensao']}\", 2)\n",
    "        paragraph = document.add_paragraph(area['observacoes'])\n",
    "        picture = document.add_picture(area['grafico'], width=Inches(1))\n",
    "        last_paragraph = document.paragraphs[-1] \n",
    "        last_paragraph.alignment = WD_PARAGRAPH_ALIGNMENT.CENTER\n",
    "        paragraph = document.add_paragraph(area['titulo_grafico'])\n",
    "        paragraph.alignment = WD_PARAGRAPH_ALIGNMENT.CENTER \n",
    "        document.add_paragraph(f'')\n",
    "\n",
    "\n",
    "    # Assinatura\n",
    "\n",
    "    paragraph = document.add_paragraph(f'O avaliador,')\n",
    "    paragraph = document.add_paragraph(f'{avaliador}')\n",
    "\n",
    "\n",
    "    # Save the Word document\n",
    "    nome_ficheiro = f'Relatorio_{avaliado}_{data}_{parte}'\n",
    "    document.save(os.path.join(os.getcwd(), f'{nome_ficheiro}.docx'))\n",
    "\n",
    "\n",
    "    # Convert the Word document to PDF. explorar e usar isto em baixo.\n",
    "\n",
    "    #    config = pdfkit.configuration(wkhtmltopdf='C:\\\\Program Files\\\\wkhtmltopdf\\\\bin\\\\wkhtmltopdf.exe')\n",
    "    #    pdfkit.from_file(f'{nome_ficheiro}.docx', f'{nome_ficheiro}.pdf', configuration=config, options={\"enable-local-file-access\": \"\"})\n",
    "\n",
    "\n",
    "    # Convert the Word document to PDF. ESte codigo em baixo funciona localmente mas não funciona no servidor, pois precisa do word instalado. Usar a parte em baixo\n",
    "\n",
    "    # Create an instance of the Word application\n",
    "    word_app = win32.gencache.EnsureDispatch('Word.Application')\n",
    "\n",
    "    # Open the Word document\n",
    "    doc = word_app.Documents.Open(os.path.join(os.getcwd(), nome_ficheiro+'.docx'))\n",
    "\n",
    "    # Save the document as PDF\n",
    "    doc.SaveAs(os.path.join(os.getcwd(), f'{nome_ficheiro}.pdf'), FileFormat=17)\n",
    "\n",
    "    # Close the Word document\n",
    "    doc.Close()\n",
    "\n",
    "    # Quit the Word application\n",
    "    word_app.Quit()\n",
    "\n",
    "\n",
    "info = {\n",
    "    'ano': 2022,\n",
    "    'parte': 'Rastreio',\n",
    "    'avaliado': 'Antonio Silva',\n",
    "    'data': '24.5.2023',\n",
    "    'avaliador': 'Pedro Santos',\n",
    "    'areas': [\n",
    "        {\n",
    "            'dimensao':'Emocional',\n",
    "            'observacoes':'Apresenta uma grande estabilidade emocional, comprovada pelos resultados da avaliação que se representam em baixo',\n",
    "            'grafico':'grafico1.png',\n",
    "            'titulo_grafico':'Evolução do estado do humor (gargalhadas por dia)',\n",
    "         },\n",
    "        {\n",
    "            'dimensao':'Afectiva',\n",
    "            'observacoes':'Apresenta um equilibrio afectivo que é comprovado pelos resultados da avaliação que se representam em baixo',\n",
    "            'grafico':'grafico1.png',\n",
    "            'titulo_grafico':'Indices de afectividade (abraços por dia)',\n",
    "         }\n",
    "    ]\n",
    "}\n",
    "\n",
    "# o ** transforma um dicionario num tuplo de variáveis e seus valores \n",
    "gera_relatorio(**info)"
   ]
  },
  {
   "cell_type": "markdown",
   "id": "2afc4156",
   "metadata": {},
   "source": [
    "\n",
    "\n",
    "\n",
    "\n",
    "### Descompactar argumentos de palavras-chave com dicionários em Python\n",
    "\n",
    "* considere uma função que tem um conjunto de argumentos\n",
    "* podemos passar como argumento um dicionario com o prefixo **. Isso irá descompactar os argumentos, atribuindo o valor à variáavel correspondente"
   ]
  },
  {
   "cell_type": "code",
   "execution_count": 15,
   "id": "899fb11f",
   "metadata": {
    "id": "899fb11f"
   },
   "outputs": [
    {
     "name": "stdout",
     "output_type": "stream",
     "text": [
      "Joao\n",
      "13\n"
     ]
    }
   ],
   "source": [
    "d = {\n",
    "    'nome':'Joao', \n",
    "    'idade':13\n",
    "}\n",
    "\n",
    "def f(nome, idade):\n",
    "    print(nome)\n",
    "    print(idade)\n",
    "\n",
    "f(**d)"
   ]
  },
  {
   "cell_type": "code",
   "execution_count": null,
   "id": "d6fe0e9c",
   "metadata": {},
   "outputs": [],
   "source": []
  }
 ],
 "metadata": {
  "colab": {
   "provenance": []
  },
  "kernelspec": {
   "display_name": "Python 3 (ipykernel)",
   "language": "python",
   "name": "python3"
  },
  "language_info": {
   "codemirror_mode": {
    "name": "ipython",
    "version": 3
   },
   "file_extension": ".py",
   "mimetype": "text/x-python",
   "name": "python",
   "nbconvert_exporter": "python",
   "pygments_lexer": "ipython3",
   "version": "3.11.0"
  }
 },
 "nbformat": 4,
 "nbformat_minor": 5
}
